{
 "cells": [
  {
   "cell_type": "code",
   "execution_count": null,
   "metadata": {
    "collapsed": true
   },
   "outputs": [],
   "source": [
    "from edward.models import Normal\n",
    "import numpy as np\n",
    "import tensorflow as tf"
   ]
  },
  {
   "cell_type": "code",
   "execution_count": 2,
   "metadata": {
    "collapsed": true
   },
   "outputs": [],
   "source": [
    "# --- manually!"
   ]
  },
  {
   "cell_type": "code",
   "execution_count": 3,
   "metadata": {
    "collapsed": true
   },
   "outputs": [],
   "source": [
    "t = 0.1\n",
    "delta = 10e-3\n",
    "eta = 1e-1\n",
    "\n",
    "vars_manual = [1., 2.]\n",
    "grads_manual = [3.1018744, 1.5509372]\n",
    "s_n_manual = [0., 0.]\n",
    "n_manual = 1"
   ]
  },
  {
   "cell_type": "code",
   "execution_count": 14,
   "metadata": {
    "collapsed": false
   },
   "outputs": [],
   "source": [
    "# grads_manual = [2.7902498, 1.241244]\n",
    "grads_manual = [2.6070995, 1.0711095]\n",
    "n_manual = 3"
   ]
  },
  {
   "cell_type": "code",
   "execution_count": null,
   "metadata": {
    "collapsed": true
   },
   "outputs": [],
   "source": []
  },
  {
   "cell_type": "code",
   "execution_count": 15,
   "metadata": {
    "collapsed": false,
    "scrolled": true
   },
   "outputs": [
    {
     "name": "stdout",
     "output_type": "stream",
     "text": [
      "3\n",
      "s_n[i]: 2.1597428437294326\n",
      "p_n_first: 0.05837280797536004\n",
      "p_n_second: 0.404922832044\n",
      "p_n: 0.0236364827198\n",
      "var: 0.694741731383\n",
      "\n",
      "s_n[i]: 0.44822725824311604\n",
      "p_n_first: 0.05837280797536004\n",
      "p_n_second: 0.598982532688\n",
      "p_n: 0.0349642923612\n",
      "var: 1.80355358733\n",
      "\n"
     ]
    }
   ],
   "source": [
    "print(n_manual)\n",
    "\n",
    "for i in [0, 1]:\n",
    "    s_n_manual[i] = (t * grads_manual[i]**2) + (1 - t)*s_n_manual[i]\n",
    "    print('s_n[i]:', s_n_manual[i])\n",
    "    p_n_first = (eta * n_manual**(-.5 + delta))\n",
    "    p_n_second = (1 + np.sqrt(s_n_manual[i]))**(-1)\n",
    "    p_n = p_n_first * p_n_second\n",
    "    print('p_n_first:', p_n_first)\n",
    "    print('p_n_second:', p_n_second)\n",
    "    print('p_n:', p_n)\n",
    "    \n",
    "    vars_manual[i] += -p_n * grads_manual[i]\n",
    "    print('var:', vars_manual[i])\n",
    "    \n",
    "    print('')"
   ]
  },
  {
   "cell_type": "code",
   "execution_count": null,
   "metadata": {
    "collapsed": true
   },
   "outputs": [],
   "source": [
    "# tensorflow..."
   ]
  },
  {
   "cell_type": "code",
   "execution_count": 33,
   "metadata": {
    "collapsed": true
   },
   "outputs": [],
   "source": [
    "t = 0.1\n",
    "delta = 10e-3\n",
    "eta = 1e-1\n",
    "    \n",
    "def alp_optimizer_apply_gradients(n, s_n, grads_and_vars):\n",
    "    ops = []\n",
    "    for i, (grad, var) in enumerate(grads_and_vars):\n",
    "        updated_s_n = s_n[i].assign( (t * grad**2) + (1 - t) * s_n[i] )\n",
    "\n",
    "        p_n_first = eta * n**(-.5 + delta)\n",
    "        p_n_second = (1 + tf.sqrt(updated_s_n[i]))**(-1)\n",
    "        p_n = p_n_first * p_n_second\n",
    "\n",
    "        updated_var = var.assign_add(-p_n * grad)\n",
    "        ops.append((updated_s_n[i], p_n_first, p_n_second, p_n, updated_var))\n",
    "#     increment_n = n.assign_add(1.)\n",
    "#     ops.append(increment_n)\n",
    "    return ops"
   ]
  },
  {
   "cell_type": "code",
   "execution_count": 34,
   "metadata": {
    "collapsed": false,
    "scrolled": false
   },
   "outputs": [],
   "source": [
    "w1 = tf.Variable(tf.constant(1.))\n",
    "w2 = tf.Variable(tf.constant(2.))\n",
    "var_list = [w1, w2]\n",
    "\n",
    "x = tf.constant([3., 4., 5.])\n",
    "y = tf.constant([.8, .1, .1])\n",
    "\n",
    "pred = tf.nn.softmax(x * w1 * w2)\n",
    "loss = tf.reduce_mean(-tf.reduce_sum(y*tf.log(pred)))\n",
    "grads = tf.gradients(loss, var_list)\n",
    "grads_and_vars = list(zip(grads, var_list))\n",
    "\n",
    "s_n = tf.Variable(tf.zeros(2))\n",
    "n = tf.Variable(tf.constant(1.))\n",
    "\n",
    "train = alp_optimizer_apply_gradients(n, s_n, grads_and_vars)\n",
    "increment_n = n.assign_add(1.)"
   ]
  },
  {
   "cell_type": "code",
   "execution_count": 39,
   "metadata": {
    "collapsed": false,
    "scrolled": false
   },
   "outputs": [],
   "source": [
    "sess = tf.InteractiveSession()\n",
    "init = tf.global_variables_initializer()\n",
    "sess.run(init)"
   ]
  },
  {
   "cell_type": "code",
   "execution_count": 40,
   "metadata": {
    "collapsed": true
   },
   "outputs": [],
   "source": [
    "# starting vals:\n",
    "\n",
    "# grads_and_vars: [(3.1018744, 1.0), (1.5509372, 2.0)]\n",
    "# s_n: array([ 0.,  0.], dtype=float32)\n",
    "# n: 1.0"
   ]
  },
  {
   "cell_type": "code",
   "execution_count": 41,
   "metadata": {
    "collapsed": false,
    "scrolled": false
   },
   "outputs": [
    {
     "name": "stdout",
     "output_type": "stream",
     "text": [
      "the_grads_and_vars: [(3.1018744, 1.0), (1.5509372, 2.0)]\n",
      "\n",
      "s_n_i: 0.962162\n",
      "p_n_first_i: 0.1\n",
      "p_n_second_i: 0.504821\n",
      "p_n_i: 0.0504821\n",
      "updated_var: 0.843411\n",
      "\n",
      "s_n_i: 0.240541\n",
      "p_n_first_i: 0.1\n",
      "p_n_second_i: 0.670939\n",
      "p_n_i: 0.0670939\n",
      "updated_var: 1.89594\n",
      "\n",
      "the_grads_and_vars: [(2.7902498, 0.84341073), (1.241244, 1.8959416)]\n",
      "\n",
      "s_n_i: 1.6445\n",
      "p_n_first_i: 0.0712025\n",
      "p_n_second_i: 0.438139\n",
      "p_n_i: 0.0311966\n",
      "updated_var: 0.756364\n",
      "\n",
      "s_n_i: 0.370555\n",
      "p_n_first_i: 0.0712025\n",
      "p_n_second_i: 0.621607\n",
      "p_n_i: 0.04426\n",
      "updated_var: 1.841\n",
      "\n"
     ]
    }
   ],
   "source": [
    "for _ in range(2):\n",
    "    the_n, the_s_n, the_grads_and_vars = sess.run([n, s_n, grads_and_vars])\n",
    "#     print('the_n:', the_n)\n",
    "#     print('the_s_n:', the_s_n)\n",
    "    print('the_grads_and_vars:', the_grads_and_vars)\n",
    "    \n",
    "#     the_grads_and_vars, results = sess.run([grads_and_vars, train])\n",
    "    results = sess.run(train)\n",
    "\n",
    "    print('')\n",
    "    for result in results:\n",
    "        s_n_i, p_n_first_i, p_n_second_i, p_n_i, updated_var = result\n",
    "        print('s_n_i:', s_n_i)\n",
    "        print('p_n_first_i:', p_n_first_i)\n",
    "        print('p_n_second_i:', p_n_second_i)\n",
    "        print('p_n_i:', p_n_i)\n",
    "        print('updated_var:', updated_var)\n",
    "        print('')\n",
    "    sess.run(increment_n)\n",
    "    \n",
    "\n",
    "# \n",
    "# np.testing.assert_almost_equal(w1_, var_manual[0], 7)\n",
    "# np.testing.assert_almost_equal(w2_, var_manual[1], 7)"
   ]
  },
  {
   "cell_type": "code",
   "execution_count": 38,
   "metadata": {
    "collapsed": false
   },
   "outputs": [
    {
     "data": {
      "text/plain": [
       "[(2.7902498, 0.75636435), (1.241244, 1.8410041)]"
      ]
     },
     "execution_count": 38,
     "metadata": {},
     "output_type": "execute_result"
    }
   ],
   "source": [
    "the_grads_and_vars"
   ]
  },
  {
   "cell_type": "code",
   "execution_count": 32,
   "metadata": {
    "collapsed": true
   },
   "outputs": [],
   "source": [
    "# after 1\n",
    "\n",
    "# s_n[i]: 0.962162479337536\n",
    "# p_n_first: 0.1\n",
    "# p_n_second: 0.504821343702\n",
    "# p_n: 0.0504821343702\n",
    "# var: 0.84341075974\n",
    "\n",
    "# s_n[i]: 0.240540619834384\n",
    "# p_n_first: 0.1\n",
    "# p_n_second: 0.670938574622\n",
    "# p_n: 0.0670938574622\n",
    "# var: 1.89594164057\n",
    "\n",
    "s_n_i: 0.962162\n",
    "p_n_first_i: 0.1\n",
    "p_n_second_i: 0.504821\n",
    "p_n_i: 0.0504821\n",
    "updated_var: 0.843411\n",
    "\n",
    "s_n_i: 0.240541\n",
    "p_n_first_i: 0.1\n",
    "p_n_second_i: 0.670939\n",
    "p_n_i: 0.0670939\n",
    "updated_var: 1.89594\n",
    "\n",
    "# after 2\n",
    "\n",
    "# 2\n",
    "# s_n[i]: 1.6444956260437862\n",
    "# p_n_first: 0.07120250977985358\n",
    "# p_n_second: 0.438139347908\n",
    "# p_n: 0.0311966212044\n",
    "# var: 0.756364393664\n",
    "\n",
    "# s_n[i]: 0.3705552246045456\n",
    "# p_n_first: 0.07120250977985358\n",
    "# p_n_second: 0.621607393593\n",
    "# p_n: 0.0442600065216\n",
    "# var: 1.84100417304\n",
    "\n",
    "s_n_i: 1.6445\n",
    "p_n_first_i: 0.0712025\n",
    "p_n_second_i: 0.438139\n",
    "p_n_i: 0.0311966\n",
    "updated_var: 0.756364\n",
    "\n",
    "s_n_i: 0.370555\n",
    "p_n_first_i: 0.0712025\n",
    "p_n_second_i: 0.621607\n",
    "p_n_i: 0.04426\n",
    "updated_var: 1.841\n",
    "    \n",
    "# after 3\n",
    "\n",
    "# s_n[i]: 2.1597428437294326\n",
    "# p_n_first: 0.05837280797536004\n",
    "# p_n_second: 0.404922832044\n",
    "# p_n: 0.0236364827198\n",
    "# var: 0.694741731383\n",
    "\n",
    "# s_n[i]: 0.44822725824311604\n",
    "# p_n_first: 0.05837280797536004\n",
    "# p_n_second: 0.598982532688\n",
    "# p_n: 0.0349642923612\n",
    "# var: 1.80355358733"
   ]
  },
  {
   "cell_type": "code",
   "execution_count": null,
   "metadata": {
    "collapsed": true
   },
   "outputs": [],
   "source": []
  }
 ],
 "metadata": {
  "kernelspec": {
   "display_name": "Python 3",
   "language": "python",
   "name": "python3"
  },
  "language_info": {
   "codemirror_mode": {
    "name": "ipython",
    "version": 3
   },
   "file_extension": ".py",
   "mimetype": "text/x-python",
   "name": "python",
   "nbconvert_exporter": "python",
   "pygments_lexer": "ipython3",
   "version": "3.6.0"
  }
 },
 "nbformat": 4,
 "nbformat_minor": 2
}
