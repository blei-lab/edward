{
 "cells": [
  {
   "cell_type": "code",
   "execution_count": null,
   "metadata": {
    "ExecuteTime": {
     "end_time": "2017-02-25T20:19:18.814387",
     "start_time": "2017-02-25T20:19:16.217460"
    },
    "collapsed": false,
    "inputHidden": false,
    "outputHidden": false
   },
   "outputs": [],
   "source": [
    "from __future__ import absolute_import\n",
    "from __future__ import division\n",
    "from __future__ import print_function\n",
    "\n",
    "import edward as ed\n",
    "import numpy as np\n",
    "import tensorflow as tf\n",
    "\n",
    "import matplotlib.pyplot as plt\n",
    "%matplotlib inline"
   ]
  },
  {
   "cell_type": "markdown",
   "metadata": {},
   "source": [
    "Generate data from stable AR(2) process\n",
    "---"
   ]
  },
  {
   "cell_type": "code",
   "execution_count": null,
   "metadata": {
    "ExecuteTime": {
     "end_time": "2017-02-25T20:21:31.422870",
     "start_time": "2017-02-25T20:21:31.415073"
    },
    "collapsed": false,
    "inputHidden": false,
    "outputHidden": false
   },
   "outputs": [],
   "source": [
    "# Parameters\n",
    "\n",
    "mu = 0.\n",
    "beta_true = np.array([0.7, 0.25])\n",
    "\n",
    "noise_obs = 0.1\n",
    "T = 128\n",
    "N= 50\n",
    "p = 2"
   ]
  },
  {
   "cell_type": "code",
   "execution_count": null,
   "metadata": {
    "ExecuteTime": {
     "end_time": "2017-02-25T20:21:31.937504",
     "start_time": "2017-02-25T20:21:31.929251"
    },
    "collapsed": false,
    "inputHidden": false,
    "outputHidden": false
   },
   "outputs": [],
   "source": [
    "# Generate synthetic data\n",
    "x_true = np.random.randn(T+1,N)*noise_obs\n",
    "for t in xrange(p, T):\n",
    "    x_true[t] += beta_true.dot(x_true[t-p:t][::-1])"
   ]
  },
  {
   "cell_type": "code",
   "execution_count": null,
   "metadata": {
    "ExecuteTime": {
     "end_time": "2017-02-25T20:21:35.448535",
     "start_time": "2017-02-25T20:21:34.990083"
    },
    "collapsed": false,
    "inputHidden": false,
    "outputHidden": false
   },
   "outputs": [],
   "source": [
    "plt.plot(x_true);"
   ]
  },
  {
   "cell_type": "markdown",
   "metadata": {},
   "source": [
    "Edward model\n",
    "---"
   ]
  },
  {
   "cell_type": "code",
   "execution_count": null,
   "metadata": {
    "ExecuteTime": {
     "end_time": "2017-02-25T20:28:29.958929",
     "start_time": "2017-02-25T20:28:24.025371"
    },
    "collapsed": false,
    "inputHidden": false,
    "outputHidden": false
   },
   "outputs": [],
   "source": [
    "from edward.models import Normal, InverseGamma, PointMass\n",
    "\n",
    "mu = Normal(mu=0., sigma=10.)\n",
    "beta = [Normal(mu=0., sigma=2.) for i in xrange(p)]\n",
    "\n",
    "noise_proc = tf.constant(0.1) #InverseGamma(alpha=1.0, beta=1.0)\n",
    "noise_obs = tf.constant(0.1) #InverseGamma(alpha=1.0, beta=1.0)\n",
    "\n",
    "x = [0] * T\n",
    "for n in xrange(p):\n",
    "    x[n] = Normal(mu=mu*tf.ones([N]), sigma=10.0*tf.ones([N]))  # fat prior on x\n",
    "for n in xrange(p, T):\n",
    "    mu_ = mu\n",
    "    for j in xrange(p):\n",
    "        mu_ += beta[j] * x[n-j-1]\n",
    "    x[n] = Normal(mu=mu_*tf.ones([N]), sigma=noise_proc*tf.ones([N]))\n",
    "\n",
    "# use variance as zero to convert the list of x's to something Inference\n",
    "# will understand\n",
    "#y = Normal(mu=x, sigma=tf.constant(0.))\n"
   ]
  },
  {
   "cell_type": "markdown",
   "metadata": {},
   "source": [
    "### MAP Inference"
   ]
  },
  {
   "cell_type": "code",
   "execution_count": null,
   "metadata": {
    "ExecuteTime": {
     "end_time": "2017-02-25T20:32:48.976811",
     "start_time": "2017-02-25T20:28:32.987558"
    },
    "collapsed": false,
    "inputHidden": false,
    "outputHidden": false
   },
   "outputs": [],
   "source": [
    "print(\"setting up distributions\")\n",
    "qmu = PointMass(params=tf.Variable(0.))\n",
    "qbeta = [PointMass(params=tf.Variable(0.)) for i in xrange(p)]\n",
    "print(\"constructing inference object\")\n",
    "vdict = {mu: qmu}\n",
    "vdict.update({b: qb for b, qb in zip(beta, qbeta)})\n",
    "inference = ed.MAP(vdict, data={xt: xt_true for xt, xt_true in zip(x, x_true)})\n",
    "print(\"running inference\")\n",
    "inference.run()\n",
    "\n",
    "print(\"parameter estimates:\")\n",
    "print(\"beta: \", [qb.value().eval() for qb in qbeta])\n",
    "print(\"mu: \", qmu.value().eval())"
   ]
  },
  {
   "cell_type": "markdown",
   "metadata": {},
   "source": [
    "### Variational inference"
   ]
  },
  {
   "cell_type": "code",
   "execution_count": null,
   "metadata": {
    "ExecuteTime": {
     "end_time": "2017-02-25T20:38:21.878610",
     "start_time": "2017-02-25T20:33:07.986214"
    },
    "collapsed": false
   },
   "outputs": [],
   "source": [
    "print(\"setting up variational distributions\")\n",
    "qmu = Normal(mu=tf.Variable(0.), sigma=tf.nn.softplus(tf.Variable(0.)))\n",
    "qbeta = [Normal(mu=tf.Variable(0.), sigma=tf.nn.softplus(tf.Variable(0.))) for i in xrange(p)]\n",
    "print(\"constructing inference object\")\n",
    "vdict = {mu: qmu}\n",
    "vdict.update({b: qb for b, qb in zip(beta, qbeta)})\n",
    "inference_vb = ed.KLqp(vdict, data={xt: xt_true for xt, xt_true in zip(x, x_true)})\n",
    "print(\"running inference\")\n",
    "inference_vb.run()\n",
    "\n",
    "print(\"parameter estimates:\")\n",
    "for j in xrange(p):\n",
    "    print(\"beta[%d]: \" % j, qbeta[j].mean().eval(), \" +- \", qbeta[j].std().eval())\n",
    "print(\"mu: \", qmu.variance().eval(), qmu.std().eval())"
   ]
  },
  {
   "cell_type": "markdown",
   "metadata": {},
   "source": [
    "### Compare with estimate from statsmodels"
   ]
  },
  {
   "cell_type": "code",
   "execution_count": null,
   "metadata": {
    "ExecuteTime": {
     "end_time": "2017-02-25T20:40:48.698792",
     "start_time": "2017-02-25T20:40:48.650248"
    },
    "collapsed": false
   },
   "outputs": [],
   "source": [
    "from statsmodels.tsa import ar_model\n",
    "\n",
    "mu_res = np.empty(N)\n",
    "beta_res = np.empty((N, p))\n",
    "for n in xrange(N):\n",
    "    ar2_sm = ar_model.AR(x_true[:,n])\n",
    "    res = ar2_sm.fit(maxlag=2, ic=None, trend='c')\n",
    "    mu_res[n] = res.params[0]\n",
    "    beta_res[n] = res.params[1:]\n",
    "\n",
    "\n",
    "print(\"statsmodels AR(2) params:\")\n",
    "print(\"mu: \", np.mean(mu_res))\n",
    "print(\"beta: \", np.mean(beta_res, axis=0))"
   ]
  }
 ],
 "metadata": {
  "anaconda-cloud": {},
  "kernel_info": {
   "name": "python2"
  },
  "kernelspec": {
   "display_name": "Python [conda env:py2]",
   "language": "python",
   "name": "conda-env-py2-py"
  },
  "language_info": {
   "codemirror_mode": {
    "name": "ipython",
    "version": 2
   },
   "file_extension": ".py",
   "mimetype": "text/x-python",
   "name": "python",
   "nbconvert_exporter": "python",
   "pygments_lexer": "ipython2",
   "version": "2.7.12"
  },
  "latex_envs": {
   "bibliofile": "biblio.bib",
   "cite_by": "apalike",
   "current_citInitial": 1,
   "eqLabelWithNumbers": true,
   "eqNumInitial": 0
  },
  "toc": {
   "nav_menu": {
    "height": "105px",
    "width": "252px"
   },
   "navigate_menu": true,
   "number_sections": true,
   "sideBar": true,
   "threshold": 4,
   "toc_cell": false,
   "toc_section_display": "block",
   "toc_window_display": false
  }
 },
 "nbformat": 4,
 "nbformat_minor": 4
}
