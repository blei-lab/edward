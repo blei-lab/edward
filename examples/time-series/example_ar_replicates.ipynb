{
 "cells": [
  {
   "cell_type": "code",
   "execution_count": null,
   "metadata": {
    "ExecuteTime": {
     "end_time": "2017-02-25T19:44:41.827195",
     "start_time": "2017-02-25T19:44:37.204384"
    },
    "collapsed": false,
    "inputHidden": false,
    "outputHidden": false
   },
   "outputs": [],
   "source": [
    "from __future__ import absolute_import\n",
    "from __future__ import division\n",
    "from __future__ import print_function\n",
    "\n",
    "import edward as ed\n",
    "import numpy as np\n",
    "import tensorflow as tf\n",
    "\n",
    "import matplotlib.pyplot as plt\n",
    "%matplotlib inline"
   ]
  },
  {
   "cell_type": "markdown",
   "metadata": {},
   "source": [
    "Generate data from stable AR(1) process\n",
    "---"
   ]
  },
  {
   "cell_type": "code",
   "execution_count": null,
   "metadata": {
    "ExecuteTime": {
     "end_time": "2017-02-25T20:14:32.190269",
     "start_time": "2017-02-25T20:14:32.184963"
    },
    "collapsed": false,
    "inputHidden": false,
    "outputHidden": false
   },
   "outputs": [],
   "source": [
    "# Parameters\n",
    "\n",
    "mu = 0.\n",
    "beta_true = 0.9\n",
    "\n",
    "noise_obs = 0.1\n",
    "T = 32\n",
    "N = 50"
   ]
  },
  {
   "cell_type": "code",
   "execution_count": null,
   "metadata": {
    "ExecuteTime": {
     "end_time": "2017-02-25T20:14:32.561995",
     "start_time": "2017-02-25T20:14:32.554936"
    },
    "collapsed": false,
    "inputHidden": false,
    "outputHidden": false
   },
   "outputs": [],
   "source": [
    "# Generate synthetic data\n",
    "x_true = np.random.randn(T,N)*noise_obs\n",
    "for t in range(1, T):\n",
    "    x_true[t] += beta_true*x_true[t-1]"
   ]
  },
  {
   "cell_type": "code",
   "execution_count": null,
   "metadata": {
    "ExecuteTime": {
     "end_time": "2017-02-25T20:14:33.438957",
     "start_time": "2017-02-25T20:14:33.004023"
    },
    "collapsed": false,
    "inputHidden": false,
    "outputHidden": false
   },
   "outputs": [],
   "source": [
    "plt.plot(x_true);"
   ]
  },
  {
   "cell_type": "markdown",
   "metadata": {},
   "source": [
    "Edward model\n",
    "---"
   ]
  },
  {
   "cell_type": "code",
   "execution_count": null,
   "metadata": {
    "ExecuteTime": {
     "end_time": "2017-02-25T20:14:37.958214",
     "start_time": "2017-02-25T20:14:36.464753"
    },
    "collapsed": false,
    "inputHidden": false,
    "outputHidden": false
   },
   "outputs": [],
   "source": [
    "from edward.models import Normal, InverseGamma, PointMass\n",
    "\n",
    "mu = Normal(mu=0., sigma=10.0)\n",
    "beta = Normal(mu=0., sigma=2.0)\n",
    "\n",
    "noise_proc = tf.constant(0.1) #InverseGamma(alpha=1.0, beta=1.0)\n",
    "noise_obs = tf.constant(0.1) #InverseGamma(alpha=1.0, beta=1.0)\n",
    "\n",
    "x = [0] * T\n",
    "x[0] = Normal(mu=tf.ones([N])*mu, sigma=tf.ones([N])*10.0)  # fat prior on x\n",
    "for n in range(1, T):\n",
    "    x[n] = Normal(mu=tf.ones([N])*mu + beta * x[n-1], sigma=tf.ones([N])*noise_proc)\n"
   ]
  },
  {
   "cell_type": "markdown",
   "metadata": {},
   "source": [
    "### MAP Inference"
   ]
  },
  {
   "cell_type": "code",
   "execution_count": null,
   "metadata": {
    "ExecuteTime": {
     "end_time": "2017-02-25T20:15:42.241446",
     "start_time": "2017-02-25T20:14:37.960419"
    },
    "collapsed": false,
    "inputHidden": false,
    "outputHidden": false
   },
   "outputs": [],
   "source": [
    "print(\"setting up distributions\")\n",
    "qmu = PointMass(params=tf.Variable(0.))\n",
    "qbeta = PointMass(params=tf.Variable(0.))\n",
    "print(\"constructing inference object\")\n",
    "inference = ed.MAP({beta: qbeta, mu: qmu}, data={xt: xt_true for xt, xt_true in zip(x, x_true)})\n",
    "print(\"running inference\")\n",
    "inference.run()\n",
    "\n",
    "print(\"parameter estimates:\")\n",
    "print(\"beta: \", qbeta.value().eval())\n",
    "print(\"mu: \", qmu.value().eval())"
   ]
  },
  {
   "cell_type": "markdown",
   "metadata": {},
   "source": [
    "### Variational inference"
   ]
  },
  {
   "cell_type": "code",
   "execution_count": null,
   "metadata": {
    "ExecuteTime": {
     "end_time": "2017-02-25T20:17:04.344888",
     "start_time": "2017-02-25T20:15:52.454033"
    },
    "collapsed": false
   },
   "outputs": [],
   "source": [
    "print(\"setting up variational distributions\")\n",
    "qmu = Normal(mu=tf.Variable(tf.random_normal([])), sigma=tf.nn.softplus(tf.Variable(tf.random_normal([]))))\n",
    "qbeta = Normal(mu=tf.Variable(tf.random_normal([])), sigma=tf.nn.softplus(tf.Variable(tf.random_normal([]))))\n",
    "print(\"constructing inference object\")\n",
    "inference_vb = ed.KLqp({beta: qbeta, mu:qmu}, data={xt: xt_true for xt, xt_true in zip(x, x_true)})\n",
    "print(\"running inference\")\n",
    "inference_vb.run()\n",
    "\n",
    "print(\"parameter estimates:\")\n",
    "print(\"beta: \", qbeta.mean().eval(), qbeta.std().eval())\n",
    "print(\"mu: \", qbeta.variance().eval(), qmu.std().eval())"
   ]
  },
  {
   "cell_type": "markdown",
   "metadata": {},
   "source": [
    "### Compare with estimate from statsmodels"
   ]
  },
  {
   "cell_type": "code",
   "execution_count": null,
   "metadata": {
    "ExecuteTime": {
     "end_time": "2017-02-25T20:11:07.312470",
     "start_time": "2017-02-25T20:11:06.600927"
    },
    "collapsed": false
   },
   "outputs": [],
   "source": [
    "from statsmodels.tsa import ar_model\n",
    "\n",
    "mu_res = np.empty(N)\n",
    "beta_res = np.empty(N)\n",
    "for n in xrange(N):\n",
    "    ar1_sm = ar_model.AR(x_true[:,n])\n",
    "    res = ar1_sm.fit(maxlag=1, ic=None, trend='c')\n",
    "    mu_res[n], beta_res[n] = res.params\n",
    "print(\"sm mu: \", np.mean(mu_res))\n",
    "print(\"sm beta: \", np.mean(beta_res))"
   ]
  }
 ],
 "metadata": {
  "anaconda-cloud": {},
  "kernel_info": {
   "name": "python2"
  },
  "kernelspec": {
   "display_name": "Python [conda env:py2]",
   "language": "python",
   "name": "conda-env-py2-py"
  },
  "language_info": {
   "codemirror_mode": {
    "name": "ipython",
    "version": 2
   },
   "file_extension": ".py",
   "mimetype": "text/x-python",
   "name": "python",
   "nbconvert_exporter": "python",
   "pygments_lexer": "ipython2",
   "version": "2.7.12"
  },
  "latex_envs": {
   "bibliofile": "biblio.bib",
   "cite_by": "apalike",
   "current_citInitial": 1,
   "eqLabelWithNumbers": true,
   "eqNumInitial": 0
  },
  "toc": {
   "nav_menu": {
    "height": "105px",
    "width": "252px"
   },
   "navigate_menu": true,
   "number_sections": true,
   "sideBar": true,
   "threshold": 4,
   "toc_cell": false,
   "toc_section_display": "block",
   "toc_window_display": false
  }
 },
 "nbformat": 4,
 "nbformat_minor": 4
}
