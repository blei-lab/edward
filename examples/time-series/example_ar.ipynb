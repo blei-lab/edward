{
 "cells": [
  {
   "cell_type": "code",
   "execution_count": null,
   "metadata": {
    "ExecuteTime": {
     "end_time": "2017-02-21T14:13:41.094831",
     "start_time": "2017-02-21T14:13:37.654479"
    },
    "collapsed": false,
    "inputHidden": false,
    "outputHidden": false
   },
   "outputs": [],
   "source": [
    "from __future__ import absolute_import\n",
    "from __future__ import division\n",
    "from __future__ import print_function\n",
    "\n",
    "import edward as ed\n",
    "import numpy as np\n",
    "import tensorflow as tf\n",
    "\n",
    "import matplotlib.pyplot as plt\n",
    "%matplotlib inline"
   ]
  },
  {
   "cell_type": "markdown",
   "metadata": {},
   "source": [
    "Generate data from stable AR(1) process\n",
    "---"
   ]
  },
  {
   "cell_type": "code",
   "execution_count": null,
   "metadata": {
    "ExecuteTime": {
     "end_time": "2017-02-21T14:13:41.101854",
     "start_time": "2017-02-21T14:13:41.097094"
    },
    "collapsed": false,
    "inputHidden": false,
    "outputHidden": false
   },
   "outputs": [],
   "source": [
    "# Parameters\n",
    "\n",
    "mu = 0.\n",
    "beta_true = 0.9\n",
    "\n",
    "noise_obs = 0.1\n",
    "T = 128"
   ]
  },
  {
   "cell_type": "code",
   "execution_count": null,
   "metadata": {
    "ExecuteTime": {
     "end_time": "2017-02-21T14:13:41.788955",
     "start_time": "2017-02-21T14:13:41.782206"
    },
    "collapsed": false,
    "inputHidden": false,
    "outputHidden": false
   },
   "outputs": [],
   "source": [
    "# Generate synthetic data\n",
    "x_true = np.random.randn(T)*noise_obs\n",
    "for t in range(1, T):\n",
    "    x_true[t] += beta_true*x_true[t-1]"
   ]
  },
  {
   "cell_type": "code",
   "execution_count": null,
   "metadata": {
    "ExecuteTime": {
     "end_time": "2017-02-21T14:13:43.085027",
     "start_time": "2017-02-21T14:13:42.785135"
    },
    "collapsed": false,
    "inputHidden": false,
    "outputHidden": false
   },
   "outputs": [],
   "source": [
    "plt.plot(x_true);"
   ]
  },
  {
   "cell_type": "markdown",
   "metadata": {},
   "source": [
    "Edward model\n",
    "---"
   ]
  },
  {
   "cell_type": "code",
   "execution_count": null,
   "metadata": {
    "ExecuteTime": {
     "end_time": "2017-02-21T14:17:47.513764",
     "start_time": "2017-02-21T14:17:42.272915"
    },
    "collapsed": false,
    "inputHidden": false,
    "outputHidden": false
   },
   "outputs": [],
   "source": [
    "from edward.models import Normal, InverseGamma, PointMass\n",
    "\n",
    "mu = Normal(mu=0., sigma=10.0)\n",
    "beta = Normal(mu=0., sigma=2.0)\n",
    "\n",
    "noise_proc = tf.constant(0.1) #InverseGamma(alpha=1.0, beta=1.0)\n",
    "noise_obs = tf.constant(0.1) #InverseGamma(alpha=1.0, beta=1.0)\n",
    "\n",
    "x = [0] * T\n",
    "x[0] = Normal(mu=mu, sigma=10.0)  # fat prior on x\n",
    "for n in range(1, T):\n",
    "    x[n] = Normal(mu=mu + beta * x[n-1], sigma=noise_proc)\n",
    "\n",
    "# use variance as zero to convert the list of x's to something Inference\n",
    "# will understand\n",
    "#y = Normal(mu=x, sigma=tf.constant(0.))\n"
   ]
  },
  {
   "cell_type": "markdown",
   "metadata": {},
   "source": [
    "### MAP Inference"
   ]
  },
  {
   "cell_type": "code",
   "execution_count": null,
   "metadata": {
    "ExecuteTime": {
     "end_time": "2017-02-21T14:19:13.526123",
     "start_time": "2017-02-21T14:17:52.477122"
    },
    "collapsed": false,
    "inputHidden": false,
    "outputHidden": false
   },
   "outputs": [],
   "source": [
    "print(\"setting up distributions\")\n",
    "qmu = PointMass(params=tf.Variable(0.))\n",
    "qbeta = PointMass(params=tf.Variable(0.))\n",
    "print(\"constructing inference object\")\n",
    "inference = ed.MAP({beta: qbeta, mu: qmu}, data={xt: xt_true for xt, xt_true in zip(x, x_true)})\n",
    "print(\"running inference\")\n",
    "inference.run()\n",
    "\n",
    "print(\"parameter estimates:\")\n",
    "print(\"beta: \", qbeta.value().eval())\n",
    "print(\"mu: \", qmu.value().eval())"
   ]
  },
  {
   "cell_type": "markdown",
   "metadata": {},
   "source": [
    "### Variational inference"
   ]
  },
  {
   "cell_type": "code",
   "execution_count": null,
   "metadata": {
    "ExecuteTime": {
     "end_time": "2017-02-22T20:56:22.817912",
     "start_time": "2017-02-22T20:50:59.564908"
    },
    "collapsed": false
   },
   "outputs": [],
   "source": [
    "print(\"setting up variational distributions\")\n",
    "qmu = Normal(mu=tf.Variable(tf.random_normal([])), sigma=tf.nn.softplus(tf.Variable(tf.random_normal([]))))\n",
    "qbeta = Normal(mu=tf.Variable(tf.random_normal([])), sigma=tf.nn.softplus(tf.Variable(tf.random_normal([]))))\n",
    "#qmu = Normal(mu=tf.Variable(0.), sigma=tf.nn.softplus(tf.Variable(0.)))\n",
    "#qbeta = Normal(mu=tf.Variable(0.), sigma=tf.nn.softplus(tf.Variable(0.)))\n",
    "print(\"constructing inference object\")\n",
    "inference_vb = ed.KLqp({beta: qbeta, mu:qmu}, data={xt: xt_true for xt, xt_true in zip(x, x_true)})\n",
    "print(\"running inference\")\n",
    "inference_vb.run()\n",
    "\n",
    "print(\"parameter estimates:\")\n",
    "print(\"beta: \", qbeta.mean().eval(), qbeta.std().eval())\n",
    "print(\"mu: \", qbeta.variance().eval(), qmu.std().eval())"
   ]
  },
  {
   "cell_type": "markdown",
   "metadata": {},
   "source": [
    "### Compare with estimate from statsmodels"
   ]
  },
  {
   "cell_type": "code",
   "execution_count": null,
   "metadata": {
    "ExecuteTime": {
     "end_time": "2017-02-21T14:21:06.970194",
     "start_time": "2017-02-21T14:21:06.963652"
    },
    "collapsed": false
   },
   "outputs": [],
   "source": [
    "from statsmodels.tsa import ar_model\n",
    "\n",
    "ar1_sm = ar_model.AR(x_true)\n",
    "res = ar1_sm.fit(maxlag=1, ic=None, trend='c')"
   ]
  },
  {
   "cell_type": "code",
   "execution_count": null,
   "metadata": {
    "ExecuteTime": {
     "end_time": "2017-02-21T14:21:06.980148",
     "start_time": "2017-02-21T14:21:06.973252"
    },
    "collapsed": false
   },
   "outputs": [],
   "source": [
    "res.params"
   ]
  }
 ],
 "metadata": {
  "anaconda-cloud": {},
  "kernel_info": {
   "name": "python2"
  },
  "kernelspec": {
   "display_name": "Python [conda env:py2]",
   "language": "python",
   "name": "conda-env-py2-py"
  },
  "language_info": {
   "codemirror_mode": {
    "name": "ipython",
    "version": 2
   },
   "file_extension": ".py",
   "mimetype": "text/x-python",
   "name": "python",
   "nbconvert_exporter": "python",
   "pygments_lexer": "ipython2",
   "version": "2.7.12"
  },
  "latex_envs": {
   "bibliofile": "biblio.bib",
   "cite_by": "apalike",
   "current_citInitial": 1,
   "eqLabelWithNumbers": true,
   "eqNumInitial": 0
  },
  "toc": {
   "nav_menu": {
    "height": "105px",
    "width": "252px"
   },
   "navigate_menu": true,
   "number_sections": true,
   "sideBar": true,
   "threshold": 4,
   "toc_cell": false,
   "toc_section_display": "block",
   "toc_window_display": false
  }
 },
 "nbformat": 4,
 "nbformat_minor": 4
}
