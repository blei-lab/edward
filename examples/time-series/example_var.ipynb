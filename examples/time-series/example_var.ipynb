{
 "cells": [
  {
   "cell_type": "markdown",
   "metadata": {},
   "source": [
    "Vector autoregressive model\n",
    "==="
   ]
  },
  {
   "cell_type": "code",
   "execution_count": null,
   "metadata": {
    "ExecuteTime": {
     "end_time": "2017-02-26T14:12:54.160524",
     "start_time": "2017-02-26T14:12:50.210457"
    },
    "collapsed": true
   },
   "outputs": [],
   "source": [
    "from __future__ import absolute_import\n",
    "from __future__ import division\n",
    "from __future__ import print_function\n",
    "\n",
    "import edward as ed\n",
    "import numpy as np\n",
    "import tensorflow as tf\n",
    "\n",
    "import matplotlib.pyplot as plt\n",
    "%matplotlib inline"
   ]
  },
  {
   "cell_type": "markdown",
   "metadata": {
    "ExecuteTime": {
     "end_time": "2017-02-26T14:15:07.138394",
     "start_time": "2017-02-26T14:15:07.132332"
    }
   },
   "source": [
    "Generate data from stable three dimensional VAR(1) process\n",
    "---"
   ]
  },
  {
   "cell_type": "code",
   "execution_count": null,
   "metadata": {
    "ExecuteTime": {
     "end_time": "2017-02-26T14:43:58.118052",
     "start_time": "2017-02-26T14:43:58.112160"
    },
    "collapsed": true
   },
   "outputs": [],
   "source": [
    "# parameters\n",
    "# this example comes from Lutkepohl, \"New Introduction fo Multiple Time Series Analysis\"\n",
    "\n",
    "d = 3\n",
    "mu = np.zeros(d)\n",
    "beta_true = np.array([[0.5, 0., 0.],[0.1, 0.1, 0.3],[0., 0.2, 0.3]])\n",
    "\n",
    "noise_obs = 0.1\n",
    "T = 128"
   ]
  },
  {
   "cell_type": "code",
   "execution_count": null,
   "metadata": {
    "ExecuteTime": {
     "end_time": "2017-02-26T14:44:00.582316",
     "start_time": "2017-02-26T14:44:00.575021"
    },
    "collapsed": false
   },
   "outputs": [],
   "source": [
    "# generate synthetic data from true model\n",
    "x_true = np.random.randn(T,d)*noise_obs\n",
    "for t in xrange(1, T):\n",
    "    x_true[t] += beta_true.dot(x_true[t-1])"
   ]
  },
  {
   "cell_type": "code",
   "execution_count": null,
   "metadata": {
    "ExecuteTime": {
     "end_time": "2017-02-26T14:44:01.469943",
     "start_time": "2017-02-26T14:44:01.163022"
    },
    "collapsed": false
   },
   "outputs": [],
   "source": [
    "plt.plot(x_true);"
   ]
  },
  {
   "cell_type": "markdown",
   "metadata": {},
   "source": [
    "Edward model\n",
    "---"
   ]
  },
  {
   "cell_type": "code",
   "execution_count": null,
   "metadata": {
    "ExecuteTime": {
     "end_time": "2017-02-26T14:46:59.717808",
     "start_time": "2017-02-26T14:46:44.535277"
    },
    "collapsed": false
   },
   "outputs": [],
   "source": [
    "from edward.models import Normal, InverseGamma, PointMass\n",
    "\n",
    "mu = Normal(mu=tf.zeros([d]), sigma=10.*tf.ones([d]))\n",
    "beta = Normal(mu=tf.zeros([d, d]), sigma=2.*tf.ones([d,d]))\n",
    "\n",
    "noise_proc = tf.constant(0.1)  # InverseGamma(alpha=1.0, beta=1.0)\n",
    "noise_obs = tf.constant(0.1)  # InverseGamma(alpha=1.0, beta=1.0)\n",
    "\n",
    "x = [0] * T\n",
    "x[0] = Normal(mu=mu, sigma=10.*tf.ones([d]))\n",
    "for n in xrange(1, T):\n",
    "    x[n] = Normal(mu=mu + tf.tensordot(beta, x[n-1], axes=[[1],[0]]),\n",
    "                  sigma=noise_proc*tf.ones([d]))"
   ]
  },
  {
   "cell_type": "markdown",
   "metadata": {},
   "source": [
    "MAP inference\n",
    "---"
   ]
  },
  {
   "cell_type": "code",
   "execution_count": null,
   "metadata": {
    "ExecuteTime": {
     "end_time": "2017-02-26T15:01:35.989050",
     "start_time": "2017-02-26T14:52:27.698901"
    },
    "collapsed": false
   },
   "outputs": [],
   "source": [
    "from itertools import izip\n",
    "\n",
    "print(\"setting up distributions\")\n",
    "qmu = PointMass(params=tf.Variable(tf.zeros([d])))\n",
    "qbeta = PointMass(params=tf.Variable(tf.zeros([d,d])))\n",
    "print(\"constructing inference object\")\n",
    "inference = ed.MAP({beta: qbeta, mu: qmu}, data={xt: xt_true for xt, xt_true in izip(x, x_true)})\n",
    "print(\"running inference\")\n",
    "inference.run()\n",
    "\n",
    "print(\"parameter estimates:\")\n",
    "print(\"mu: \", qmu.value().eval())\n",
    "print(\"beta:\\n\", qbeta.value().eval())"
   ]
  },
  {
   "cell_type": "markdown",
   "metadata": {
    "ExecuteTime": {
     "end_time": "2017-02-26T14:34:10.138001",
     "start_time": "2017-02-26T14:34:10.132720"
    }
   },
   "source": [
    "Variational inference\n",
    "---"
   ]
  },
  {
   "cell_type": "code",
   "execution_count": null,
   "metadata": {
    "ExecuteTime": {
     "end_time": "2017-02-26T14:52:18.725384",
     "start_time": "2017-02-26T22:47:04.817Z"
    },
    "collapsed": false
   },
   "outputs": [],
   "source": [
    "print(\"setting up variational distributions\")\n",
    "qmu = Normal(mu=tf.Variable(tf.random_normal([d])), sigma=tf.nn.softplus(tf.Variable(tf.random_normal([d]))))\n",
    "qbeta = Normal(mu=tf.Variable(tf.random_normal([d, d])), sigma=tf.nn.softplus(tf.Variable(tf.random_normal([d,d]))))\n",
    "print(\"constructing inference object\")\n",
    "inference_vb = ed.KLqp({beta: qbeta, mu: qmu}, data={xt: xt_true for xt, xt_true in zip(x, x_true)})\n",
    "print(\"running VB inference\")\n",
    "inference_vb.run()\n",
    "\n",
    "print(\"parameter estimates:\")\n",
    "print(\"mu: \", qmu.mean().eval())\n",
    "print(\"beta:\\n\", qbeta.mean().eval())"
   ]
  },
  {
   "cell_type": "markdown",
   "metadata": {},
   "source": [
    "Compare with `statsmodels`\n",
    "---"
   ]
  },
  {
   "cell_type": "code",
   "execution_count": null,
   "metadata": {
    "ExecuteTime": {
     "end_time": "2017-02-26T15:08:57.966230",
     "start_time": "2017-02-26T15:08:57.958732"
    },
    "collapsed": false
   },
   "outputs": [],
   "source": [
    "from statsmodels.tsa.vector_ar.var_model import VAR\n",
    "\n",
    "var1 = VAR(x_true)\n",
    "res = var1.fit(1, ic=None, trend='c')"
   ]
  },
  {
   "cell_type": "code",
   "execution_count": null,
   "metadata": {
    "ExecuteTime": {
     "end_time": "2017-02-26T15:09:48.647095",
     "start_time": "2017-02-26T15:09:48.638609"
    },
    "collapsed": false
   },
   "outputs": [],
   "source": [
    "mu_sm = res.params[0]\n",
    "beta_sm = res.params[1:].T\n",
    "print(\"mu_sm: \", mu_sm)\n",
    "print(\"beta_sm:\\n\", beta_sm)"
   ]
  },
  {
   "cell_type": "code",
   "execution_count": null,
   "metadata": {
    "collapsed": true
   },
   "outputs": [],
   "source": []
  }
 ],
 "metadata": {
  "anaconda-cloud": {},
  "kernelspec": {
   "display_name": "Python [conda env:py2]",
   "language": "python",
   "name": "conda-env-py2-py"
  },
  "language_info": {
   "codemirror_mode": {
    "name": "ipython",
    "version": 2
   },
   "file_extension": ".py",
   "mimetype": "text/x-python",
   "name": "python",
   "nbconvert_exporter": "python",
   "pygments_lexer": "ipython2",
   "version": "2.7.12"
  },
  "latex_envs": {
   "bibliofile": "biblio.bib",
   "cite_by": "apalike",
   "current_citInitial": 1,
   "eqLabelWithNumbers": true,
   "eqNumInitial": 0
  },
  "toc": {
   "nav_menu": {
    "height": "124px",
    "width": "252px"
   },
   "navigate_menu": true,
   "number_sections": true,
   "sideBar": true,
   "threshold": 4,
   "toc_cell": false,
   "toc_section_display": "block",
   "toc_window_display": false
  }
 },
 "nbformat": 4,
 "nbformat_minor": 1
}
