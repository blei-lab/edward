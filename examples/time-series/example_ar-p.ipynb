{
 "cells": [
  {
   "cell_type": "code",
   "execution_count": null,
   "metadata": {
    "ExecuteTime": {
     "end_time": "2017-02-24T10:29:35.964814",
     "start_time": "2017-02-24T10:29:35.600359"
    },
    "collapsed": false,
    "inputHidden": false,
    "outputHidden": false
   },
   "outputs": [],
   "source": [
    "from __future__ import absolute_import\n",
    "from __future__ import division\n",
    "from __future__ import print_function\n",
    "\n",
    "import edward as ed\n",
    "import numpy as np\n",
    "import tensorflow as tf\n",
    "\n",
    "import matplotlib.pyplot as plt\n",
    "%matplotlib inline"
   ]
  },
  {
   "cell_type": "markdown",
   "metadata": {},
   "source": [
    "Generate data from stable AR(2) process\n",
    "---"
   ]
  },
  {
   "cell_type": "code",
   "execution_count": null,
   "metadata": {
    "ExecuteTime": {
     "end_time": "2017-02-24T10:29:36.820467",
     "start_time": "2017-02-24T10:29:36.814343"
    },
    "collapsed": false,
    "inputHidden": false,
    "outputHidden": false
   },
   "outputs": [],
   "source": [
    "# Parameters\n",
    "\n",
    "mu = 0.\n",
    "beta_true = np.array([0.7, 0.25])\n",
    "\n",
    "noise_obs = 0.1\n",
    "T = 128\n",
    "p = 2"
   ]
  },
  {
   "cell_type": "code",
   "execution_count": null,
   "metadata": {
    "ExecuteTime": {
     "end_time": "2017-02-24T10:29:37.788903",
     "start_time": "2017-02-24T10:29:37.781328"
    },
    "collapsed": false,
    "inputHidden": false,
    "outputHidden": false
   },
   "outputs": [],
   "source": [
    "# Generate synthetic data\n",
    "x_true = np.random.randn(T+1)*noise_obs\n",
    "for t in xrange(p, T):\n",
    "    x_true[t] += beta_true.dot(x_true[t-p:t][::-1])"
   ]
  },
  {
   "cell_type": "code",
   "execution_count": null,
   "metadata": {
    "ExecuteTime": {
     "end_time": "2017-02-24T10:29:39.165765",
     "start_time": "2017-02-24T10:29:38.873426"
    },
    "collapsed": false,
    "inputHidden": false,
    "outputHidden": false
   },
   "outputs": [],
   "source": [
    "plt.plot(x_true);"
   ]
  },
  {
   "cell_type": "markdown",
   "metadata": {},
   "source": [
    "Edward model\n",
    "---"
   ]
  },
  {
   "cell_type": "code",
   "execution_count": null,
   "metadata": {
    "ExecuteTime": {
     "end_time": "2017-02-24T10:38:57.184835",
     "start_time": "2017-02-24T10:38:52.252252"
    },
    "collapsed": false,
    "inputHidden": false,
    "outputHidden": false
   },
   "outputs": [],
   "source": [
    "from edward.models import Normal, InverseGamma, PointMass\n",
    "\n",
    "mu = Normal(mu=0., sigma=10.)\n",
    "beta = [Normal(mu=0., sigma=2.) for i in xrange(p)]\n",
    "\n",
    "noise_proc = tf.constant(0.1) #InverseGamma(alpha=1.0, beta=1.0)\n",
    "noise_obs = tf.constant(0.1) #InverseGamma(alpha=1.0, beta=1.0)\n",
    "\n",
    "x = [0] * T\n",
    "for n in xrange(p):\n",
    "    x[n] = Normal(mu=mu, sigma=10.0)  # fat prior on x\n",
    "for n in xrange(p, T):\n",
    "    mu_ = mu\n",
    "    for j in xrange(p):\n",
    "        mu_ += beta[j] * x[n-j-1]\n",
    "    x[n] = Normal(mu=mu_, sigma=noise_proc)\n",
    "\n",
    "# use variance as zero to convert the list of x's to something Inference\n",
    "# will understand\n",
    "#y = Normal(mu=x, sigma=tf.constant(0.))\n"
   ]
  },
  {
   "cell_type": "markdown",
   "metadata": {},
   "source": [
    "### MAP Inference"
   ]
  },
  {
   "cell_type": "code",
   "execution_count": null,
   "metadata": {
    "ExecuteTime": {
     "end_time": "2017-02-24T10:44:03.932152",
     "start_time": "2017-02-24T10:38:58.889492"
    },
    "collapsed": false,
    "inputHidden": false,
    "outputHidden": false
   },
   "outputs": [],
   "source": [
    "print(\"setting up distributions\")\n",
    "qmu = PointMass(params=tf.Variable(0.))\n",
    "qbeta = [PointMass(params=tf.Variable(0.)) for i in xrange(p)]\n",
    "print(\"constructing inference object\")\n",
    "vdict = {mu: qmu}\n",
    "vdict.update({b: qb for b, qb in zip(beta, qbeta)}) inference = ed.MAP(vdict, data={xt: xt_true for xt, xt_true in zip(x, x_true)})\n",
    "print(\"running inference\")\n",
    "inference.run()\n",
    "\n",
    "print(\"parameter estimates:\")\n",
    "print(\"beta: \", [qb.value().eval() for qb in qbeta])\n",
    "print(\"mu: \", qmu.value().eval())"
   ]
  },
  {
   "cell_type": "markdown",
   "metadata": {},
   "source": [
    "### Variational inference"
   ]
  },
  {
   "cell_type": "code",
   "execution_count": null,
   "metadata": {
    "ExecuteTime": {
     "end_time": "2017-02-24T11:24:40.939490",
     "start_time": "2017-02-24T11:17:58.456562"
    },
    "collapsed": false
   },
   "outputs": [],
   "source": [
    "print(\"setting up variational distributions\")\n",
    "qmu = Normal(mu=tf.Variable(0.), sigma=tf.nn.softplus(tf.Variable(0.)))\n",
    "qbeta = [Normal(mu=tf.Variable(0.), sigma=tf.nn.softplus(tf.Variable(0.))) for i in xrange(p)]\n",
    "print(\"constructing inference object\")\n",
    "vdict = {mu: qmu}\n",
    "vdict.update({b: qb for b, qb in zip(beta, qbeta)})\n",
    "inference_vb = ed.KLqp(vdict, data={xt: xt_true for xt, xt_true in zip(x, x_true)})\n",
    "print(\"running inference\")\n",
    "inference_vb.run()\n",
    "\n",
    "print(\"parameter estimates:\")\n",
    "for j in xrange(p):\n",
    "    print(\"beta[%d]: \" % j, qbeta[j].mean().eval(), \" +- \", qbeta[j].std().eval())\n",
    "print(\"mu: \", qmu.variance().eval(), qmu.std().eval())"
   ]
  },
  {
   "cell_type": "markdown",
   "metadata": {},
   "source": [
    "### Compare with estimate from statsmodels"
   ]
  },
  {
   "cell_type": "code",
   "execution_count": null,
   "metadata": {
    "ExecuteTime": {
     "end_time": "2017-02-24T10:38:17.895247",
     "start_time": "2017-02-24T10:38:17.883803"
    },
    "collapsed": false
   },
   "outputs": [],
   "source": [
    "from statsmodels.tsa import ar_model\n",
    "\n",
    "ar2_sm = ar_model.AR(x_true)\n",
    "res = ar2_sm.fit(maxlag=2, ic=None, trend='c')\n",
    "\n",
    "print(\"statsmodels AR(2) params: \", res.params)"
   ]
  }
 ],
 "metadata": {
  "anaconda-cloud": {},
  "kernel_info": {
   "name": "python2"
  },
  "kernelspec": {
   "display_name": "Python [conda env:py2]",
   "language": "python",
   "name": "conda-env-py2-py"
  },
  "language_info": {
   "codemirror_mode": {
    "name": "ipython",
    "version": 2
   },
   "file_extension": ".py",
   "mimetype": "text/x-python",
   "name": "python",
   "nbconvert_exporter": "python",
   "pygments_lexer": "ipython2",
   "version": "2.7.12"
  },
  "latex_envs": {
   "bibliofile": "biblio.bib",
   "cite_by": "apalike",
   "current_citInitial": 1,
   "eqLabelWithNumbers": true,
   "eqNumInitial": 0
  },
  "toc": {
   "nav_menu": {
    "height": "105px",
    "width": "252px"
   },
   "navigate_menu": true,
   "number_sections": true,
   "sideBar": true,
   "threshold": 4,
   "toc_cell": false,
   "toc_section_display": "block",
   "toc_window_display": false
  }
 },
 "nbformat": 4,
 "nbformat_minor": 4
}
