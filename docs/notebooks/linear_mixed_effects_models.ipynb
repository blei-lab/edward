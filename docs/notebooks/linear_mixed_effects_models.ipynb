{
 "cells": [
  {
   "cell_type": "markdown",
   "metadata": {},
   "source": [
    "# Linear Mixed Effects Models\n",
    "\n",
    "In linear mixed effects models, we wish to model a linear relation between categorical input variables and a continuous output variable. The data is not drawn independently. Oftentimes, we see clusters in subgroups.\n",
    "\n",
    "We demonstrate with an example in Edward. A webpage version is available \n",
    "[here](http://edwardlib.org/tutorials/linear_mixed_effects_model),\n",
    "or as a script available at\n",
    "[`examples/linear_mixed_effects_model.py`](https://github.com/blei-lab/edward/blob/master/examples/linear_mixed_effects_model.py)\n",
    "in the Github repository."
   ]
  },
  {
   "cell_type": "code",
   "execution_count": 1,
   "metadata": {
    "collapsed": true
   },
   "outputs": [],
   "source": [
    "from __future__ import absolute_import\n",
    "from __future__ import division\n",
    "from __future__ import print_function\n",
    "\n",
    "import edward as ed\n",
    "import pandas as pd\n",
    "import tensorflow as tf\n",
    "import matplotlib.pyplot as plt\n",
    "\n",
    "from edward.models import Normal\n",
    "\n",
    "plt.style.use('ggplot')\n",
    "%matplotlib inline\n",
    "\n",
    "ed.set_seed(42)"
   ]
  },
  {
   "cell_type": "markdown",
   "metadata": {},
   "source": [
    "## Data\n",
    "\n",
    "We use the $\\texttt{InstEval}$ dataset located $\\href{http://nbviewer.jupyter.org/github/blei-lab/edward/blob/master/docs/notebooks/linear_mixed_effects_models.ipynb}{here}$. It's a dataset of instructor evaluation ratings where our inputs include categories such as $\\texttt{students}$ and $\\texttt{departments}$, while our observed variable is the actual rating."
   ]
  },
  {
   "cell_type": "code",
   "execution_count": 2,
   "metadata": {
    "collapsed": false
   },
   "outputs": [
    {
     "data": {
      "text/html": [
       "<div>\n",
       "<table border=\"1\" class=\"dataframe\">\n",
       "  <thead>\n",
       "    <tr style=\"text-align: right;\">\n",
       "      <th></th>\n",
       "      <th>Unnamed: 0</th>\n",
       "      <th>s</th>\n",
       "      <th>d</th>\n",
       "      <th>studage</th>\n",
       "      <th>lectage</th>\n",
       "      <th>service</th>\n",
       "      <th>dept</th>\n",
       "      <th>y</th>\n",
       "      <th>dcodes</th>\n",
       "      <th>deptcodes</th>\n",
       "    </tr>\n",
       "  </thead>\n",
       "  <tbody>\n",
       "    <tr>\n",
       "      <th>1264</th>\n",
       "      <td>1265</td>\n",
       "      <td>55</td>\n",
       "      <td>719</td>\n",
       "      <td>6</td>\n",
       "      <td>6</td>\n",
       "      <td>1</td>\n",
       "      <td>3</td>\n",
       "      <td>3</td>\n",
       "      <td>388</td>\n",
       "      <td>2</td>\n",
       "    </tr>\n",
       "    <tr>\n",
       "      <th>57777</th>\n",
       "      <td>57778</td>\n",
       "      <td>2335</td>\n",
       "      <td>678</td>\n",
       "      <td>4</td>\n",
       "      <td>1</td>\n",
       "      <td>0</td>\n",
       "      <td>10</td>\n",
       "      <td>3</td>\n",
       "      <td>363</td>\n",
       "      <td>9</td>\n",
       "    </tr>\n",
       "    <tr>\n",
       "      <th>63994</th>\n",
       "      <td>63995</td>\n",
       "      <td>2597</td>\n",
       "      <td>1336</td>\n",
       "      <td>2</td>\n",
       "      <td>1</td>\n",
       "      <td>0</td>\n",
       "      <td>6</td>\n",
       "      <td>3</td>\n",
       "      <td>706</td>\n",
       "      <td>5</td>\n",
       "    </tr>\n",
       "    <tr>\n",
       "      <th>27821</th>\n",
       "      <td>27822</td>\n",
       "      <td>1133</td>\n",
       "      <td>554</td>\n",
       "      <td>6</td>\n",
       "      <td>4</td>\n",
       "      <td>1</td>\n",
       "      <td>6</td>\n",
       "      <td>4</td>\n",
       "      <td>290</td>\n",
       "      <td>5</td>\n",
       "    </tr>\n",
       "    <tr>\n",
       "      <th>34998</th>\n",
       "      <td>34999</td>\n",
       "      <td>1420</td>\n",
       "      <td>1176</td>\n",
       "      <td>8</td>\n",
       "      <td>2</td>\n",
       "      <td>0</td>\n",
       "      <td>3</td>\n",
       "      <td>3</td>\n",
       "      <td>620</td>\n",
       "      <td>2</td>\n",
       "    </tr>\n",
       "  </tbody>\n",
       "</table>\n",
       "</div>"
      ],
      "text/plain": [
       "       Unnamed: 0     s     d  studage  lectage  service  dept  y  dcodes  \\\n",
       "1264         1265    55   719        6        6        1     3  3     388   \n",
       "57777       57778  2335   678        4        1        0    10  3     363   \n",
       "63994       63995  2597  1336        2        1        0     6  3     706   \n",
       "27821       27822  1133   554        6        4        1     6  4     290   \n",
       "34998       34999  1420  1176        8        2        0     3  3     620   \n",
       "\n",
       "       deptcodes  \n",
       "1264           2  \n",
       "57777          9  \n",
       "63994          5  \n",
       "27821          5  \n",
       "34998          2  "
      ]
     },
     "execution_count": 2,
     "metadata": {},
     "output_type": "execute_result"
    }
   ],
   "source": [
    "# DATA\n",
    "# s - students - 1:2972\n",
    "# d - instructors - codes that need to be remapped\n",
    "# dept also needs to be remapped\n",
    "data = pd.read_csv('../../examples/data/insteval.csv')\n",
    "data['dcodes'] = data['d'].astype('category').cat.codes\n",
    "data['deptcodes'] = data['dept'].astype('category').cat.codes\n",
    "data['s'] = data['s'] - 1\n",
    "\n",
    "train = data.sample(frac=0.8)\n",
    "test = data.drop(train.index)\n",
    "\n",
    "train.head()"
   ]
  },
  {
   "cell_type": "code",
   "execution_count": 3,
   "metadata": {
    "collapsed": false
   },
   "outputs": [],
   "source": [
    "s_train = train['s'].values.astype(int)\n",
    "d_train = train['dcodes'].values.astype(int)\n",
    "dept_train = train['deptcodes'].values.astype(int)\n",
    "y_train = train['y'].values.astype(float)\n",
    "service_train = train['service'].values.astype(int)\n",
    "n_obs_train = train.shape[0]\n",
    "service_train.shape = [n_obs_train, 1]\n",
    "\n",
    "\n",
    "s_test = test['s'].values.astype(int)\n",
    "d_test = test['dcodes'].values.astype(int)\n",
    "dept_test = test['deptcodes'].values.astype(int)\n",
    "y_test = test['y'].values.astype(float)\n",
    "service_test = test['service'].values.astype(int)\n",
    "n_obs_test = test.shape[0]\n",
    "service_test.shape = [n_obs_test, 1]"
   ]
  },
  {
   "cell_type": "code",
   "execution_count": 4,
   "metadata": {
    "collapsed": false
   },
   "outputs": [],
   "source": [
    "n_s = 2972\n",
    "n_d = 1128\n",
    "n_dept = 14\n",
    "n_obs = train.shape[0]"
   ]
  },
  {
   "cell_type": "markdown",
   "metadata": {},
   "source": [
    "## Model\n",
    "\n",
    "The main reason we use a mixed model rather than regular linear regression is because we cannot make the independence assumption. Rather, our observations come from sets of groups which can different slopes and intercepts.\n",
    "\n",
    "For example:\n",
    "* The observations from a single student are not independent of each other. Rather, some students may systematically give low (or high) lecture ratings.\n",
    "* The observations of a single teachers are not independent from one another. We'd expect good teachers to get generally good ratings and bad teachers to get generally bad ratings.\n",
    "* The observations of a department are not independent from one another. One department may generally have dry material and thus be rated lower than others."
   ]
  },
  {
   "cell_type": "markdown",
   "metadata": {},
   "source": [
    "Normal linear regression takes the form $$ y = X\\beta + \\epsilon $$ where $X$ corresponds to fixed effects with coefficients $\\beta$.\n",
    "\n",
    "However, our linear mixed model effects will add a new term, $Z\\eta$, where $Z$ corresponds to random effects with coefficients $\\eta$. Thus, our model now takes the form $$ y = X\\beta + Z\\eta + \\epsilon $$ Our goal will be to infer both $\\beta$ and $\\eta$."
   ]
  },
  {
   "cell_type": "markdown",
   "metadata": {},
   "source": [
    "This obviously brings about the question on what is the difference between fixed variables $X$ and random variables $Z$. A fixed variable has a fixed set of categories, while random variables don't. This is better illustrated below with our example.\n",
    "\n",
    "Our 'fixed' effect for this dataset is $\\texttt{service}$, which is a binary variable corresponding to whether the lecture belongs to the lecturer's main department or not. No matter how much additional data we use, it can only take on the values of $0$ and $1$.\n",
    "\n",
    "On the other hand, our 'random' effects are the categories of $\\texttt{students}$, $\\texttt{teachers}$, and $\\texttt{departments}$. Given more data, we might be looking at new students, teachers, or departments. For example, we are not required to use the Statistics Department ratings in our model. But, we have the flexibility to do so.\n",
    "\n",
    "Note that all random variables are Normal distributions centered around the origin. This means our mean is captured by $X\\beta$, while $Z\\eta$ encapsulates the deviation (e.g. Instructor #54 is rated 1.4 points higher than the mean)."
   ]
  },
  {
   "cell_type": "markdown",
   "metadata": {},
   "source": [
    "Therefore, given the variables corresponding to $\\texttt{students}$, $\\texttt{teachers}$, $\\texttt{departments}$, and $\\texttt{service}$, we want to predict the rating given for the lecturer. Once we make te mixed effects' distinction, we can summarize our model as\n",
    "\n",
    "$$y \\sim 1 + (1|\\texttt{students}) + (1|\\texttt{instructor}) + \\texttt{service} + (1|\\texttt{dept})$$ where (1|x) denotes that x is a random effect, not fixed.\n",
    "\n",
    "For the code below, we denote:\n",
    "* $\\texttt{students}$ as $\\texttt{s}$\n",
    "* $\\texttt{instructors}$ as $\\texttt{d}$\n",
    "* $\\texttt{departments}$ as $\\texttt{dept}$\n",
    "* $\\texttt{service}$ as $\\texttt{service}$"
   ]
  },
  {
   "cell_type": "code",
   "execution_count": 5,
   "metadata": {
    "collapsed": true
   },
   "outputs": [],
   "source": [
    "# MODEL\n",
    "service_X = tf.placeholder(tf.float32, [n_obs, 1])\n",
    "\n",
    "lnvar_s = Normal(mu=tf.zeros(1), sigma=tf.ones(1))\n",
    "lnvar_d = Normal(mu=tf.zeros(1), sigma=tf.ones(1))\n",
    "lnvar_dept = Normal(mu=tf.zeros(1), sigma=tf.ones(1))\n",
    "\n",
    "sigma_s = tf.sqrt(tf.exp(lnvar_s))\n",
    "sigma_d = tf.sqrt(tf.exp(lnvar_d))\n",
    "sigma_dept = tf.sqrt(tf.exp(lnvar_dept))\n",
    "\n",
    "mu = Normal(mu=tf.zeros(1), sigma=tf.ones(1))\n",
    "service = Normal(mu=tf.zeros(1), sigma=tf.ones(1))\n",
    "\n",
    "eta_s = Normal(mu=tf.zeros(n_s), sigma=sigma_s * tf.ones(n_s))\n",
    "eta_d = Normal(mu=tf.zeros(n_d), sigma=sigma_d * tf.ones(n_d))\n",
    "eta_dept = Normal(mu=tf.zeros(n_dept), sigma=sigma_dept * tf.ones(n_dept))\n",
    "\n",
    "yhat = tf.gather(eta_s, s_train) + \\\n",
    "    tf.gather(eta_d, d_train) + \\\n",
    "    tf.gather(eta_dept, dept_train) + \\\n",
    "    mu + ed.dot(service_X, service)\n",
    "y = Normal(mu=yhat, sigma=tf.ones(n_obs))"
   ]
  },
  {
   "cell_type": "markdown",
   "metadata": {},
   "source": [
    "## Inference\n",
    "\n",
    "We'll use an inference method to estimate the effects of each category. First, we set up our inference variables below."
   ]
  },
  {
   "cell_type": "code",
   "execution_count": 6,
   "metadata": {
    "collapsed": true
   },
   "outputs": [],
   "source": [
    "# INFERENCE\n",
    "def make_normal(n):\n",
    "  var = Normal(\n",
    "      mu=tf.Variable(tf.random_normal([n])),\n",
    "      sigma=tf.nn.softplus(tf.Variable(tf.random_normal([n]))))\n",
    "  return var\n",
    "\n",
    "\n",
    "q_eta_s = make_normal(n_s)\n",
    "q_eta_d = make_normal(n_d)\n",
    "q_eta_dept = make_normal(n_dept)\n",
    "\n",
    "qlnvar_s = make_normal(1)\n",
    "qlnvar_d = make_normal(1)\n",
    "qlnvar_dept = make_normal(1)\n",
    "\n",
    "qmu = make_normal(1)\n",
    "qservice = make_normal(1)\n",
    "\n",
    "params_dict = {\n",
    "    mu: qmu,\n",
    "    service: qservice,\n",
    "    lnvar_s: qlnvar_s,\n",
    "    lnvar_d: qlnvar_d,\n",
    "    lnvar_dept: qlnvar_dept,\n",
    "    eta_s: q_eta_s,\n",
    "    eta_d: q_eta_d,\n",
    "    eta_dept: q_eta_dept\n",
    "}\n",
    "data_dict = {y: y_train, service_X: service_train}"
   ]
  },
  {
   "cell_type": "markdown",
   "metadata": {},
   "source": [
    "Now, we can use an inference algorithm. For this example, we minimize the $\\text{KL}(q\\|p)$ divergence measure."
   ]
  },
  {
   "cell_type": "code",
   "execution_count": 7,
   "metadata": {
    "collapsed": false
   },
   "outputs": [],
   "source": [
    "inference = ed.KLqp(params_dict, data_dict)\n",
    "inference.initialize(n_print=5, n_iter=50)\n",
    "\n",
    "init = tf.global_variables_initializer()\n",
    "init.run()"
   ]
  },
  {
   "cell_type": "code",
   "execution_count": 8,
   "metadata": {
    "collapsed": false
   },
   "outputs": [
    {
     "name": "stdout",
     "output_type": "stream",
     "text": [
      "Iteration  1 [  2%]: Loss = 399062.781\n",
      "Iteration  5 [ 10%]: Loss = 241520.750\n",
      "Iteration 10 [ 20%]: Loss = 188648.062\n",
      "Iteration 15 [ 30%]: Loss = 309070.062\n",
      "Iteration 20 [ 40%]: Loss = 161512.156\n",
      "Iteration 25 [ 50%]: Loss = 164834.016\n",
      "Iteration 30 [ 60%]: Loss = 155169.812\n",
      "Iteration 35 [ 70%]: Loss = 126208.547\n",
      "Iteration 40 [ 80%]: Loss = 112563.773\n",
      "Iteration 45 [ 90%]: Loss = 116397.867\n",
      "Iteration 50 [100%]: Loss = 108729.508\n"
     ]
    }
   ],
   "source": [
    "qs_mean = q_eta_s.mean()\n",
    "qd_mean = q_eta_d.mean()\n",
    "qdept_mean = q_eta_dept.mean()\n",
    "qmu_mean = qmu.mean()\n",
    "qservice_mean = qservice.mean()\n",
    "\n",
    "service_X_test = tf.placeholder(tf.float32, [n_obs_test, 1])\n",
    "yhat_test = tf.gather(qs_mean, s_test) + \\\n",
    "    tf.gather(qd_mean, d_test) + \\\n",
    "    tf.gather(qd_mean, dept_test) + \\\n",
    "    qmu_mean + ed.dot(service_X_test, qservice_mean)\n",
    "\n",
    "\n",
    "for t in range(inference.n_iter):\n",
    "  info_dict = inference.update()\n",
    "  inference.print_progress(info_dict)\n",
    "  yhat_vals = yhat_test.eval(feed_dict={service_X_test: service_test})"
   ]
  },
  {
   "cell_type": "markdown",
   "metadata": {},
   "source": [
    "## Criticism\n",
    "\n",
    "One way to visually critique our model is to plot the residual, i.e. the difference between the predicted value and the observed value."
   ]
  },
  {
   "cell_type": "code",
   "execution_count": 9,
   "metadata": {
    "collapsed": false
   },
   "outputs": [
    {
     "data": {
      "image/png": "[encoded data removed]",
      "text/plain": [
       "<matplotlib.figure.Figure at 0x125525f10>"
      ]
     },
     "metadata": {},
     "output_type": "display_data"
    }
   ],
   "source": [
    "plt.title(\"Residuals for Prediced Ratings on Test Set\")\n",
    "plt.xlim(-4, 4)\n",
    "plt.ylim(0, 800)\n",
    "plt.hist(yhat_vals - y_test, 75)\n",
    "plt.show()"
   ]
  }
 ],
 "metadata": {
  "anaconda-cloud": {},
  "kernelspec": {
   "display_name": "Python [Root]",
   "language": "python",
   "name": "Python [Root]"
  },
  "language_info": {
   "codemirror_mode": {
    "name": "ipython",
    "version": 2
   },
   "file_extension": ".py",
   "mimetype": "text/x-python",
   "name": "python",
   "nbconvert_exporter": "python",
   "pygments_lexer": "ipython2",
   "version": "2.7.12"
  }
 },
 "nbformat": 4,
 "nbformat_minor": 1
}
